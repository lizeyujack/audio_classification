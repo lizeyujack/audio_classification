{
 "cells": [
  {
   "cell_type": "code",
   "execution_count": null,
   "metadata": {},
   "outputs": [],
   "source": [
    "import os\n",
    "dir = \"D:/Learn/a\"\n",
    "genres = []\n",
    "for root, dirs, files in os.walk(dir):\n",
    "    for dir in dirs:\n",
    "        genres.append(dir)"
   ]
  },
  {
   "cell_type": "code",
   "execution_count": null,
   "metadata": {},
   "outputs": [],
   "source": [
    "#genres = 'blues classical country disco hiphop jazz metal pop reggae rock'.split()\n",
    "#将png格式的文件存到b文件夹下：\n",
    "for g in genres:\n",
    "    pathlib.Path(f'b/{g}').mkdir(parents=True, exist_ok=True)\n",
    "    for filename in os.listdir(f'./a/{g}'):\n",
    "        songname = f'./a/{g}/{filename}'\n",
    "        y, sr = librosa.load(songname, mono=True, duration=5)\n",
    "        print(y.shape)\n",
    "        plt.specgram(y, NFFT=2048, Fs=2, Fc=0, noverlap=128, sides='default', mode='default', scale='dB');\n",
    "        plt.axis('off');\n",
    "        plt.savefig(f'b/{g}/{filename[:-3].replace(\".\", \"\")}.png')\n",
    "        plt.clf()"
   ]
  },
  {
   "cell_type": "code",
   "execution_count": null,
   "metadata": {},
   "outputs": [],
   "source": [
    "#删除.png格式文件：\n",
    "import os\n",
    "import glob\n",
    "\n",
    "path ='D:\\\\Learn\\\\a\\\\C0002'\n",
    "for infile in glob.glob(os.path.join(path, '*.png')):\n",
    "     os.remove(infile)"
   ]
  }
 ],
 "metadata": {
  "kernelspec": {
   "display_name": "Python 3",
   "language": "python",
   "name": "python3"
  },
  "language_info": {
   "codemirror_mode": {
    "name": "ipython",
    "version": 3
   },
   "file_extension": ".py",
   "mimetype": "text/x-python",
   "name": "python",
   "nbconvert_exporter": "python",
   "pygments_lexer": "ipython3",
   "version": "3.7.4"
  }
 },
 "nbformat": 4,
 "nbformat_minor": 4
}
